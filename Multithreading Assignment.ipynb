{
 "cells": [
  {
   "cell_type": "markdown",
   "id": "ff6340cc",
   "metadata": {},
   "source": [
    "Q1.What is multithreading in python? Why is it used? Name the module used to handle threads in python"
   ]
  },
  {
   "cell_type": "markdown",
   "id": "c73e3fad",
   "metadata": {},
   "source": [
    "Multithreading in Python refers to the ability of a program to execute multiple threads simultaneously within a single process. A thread is a lightweight unit of execution that can perform tasks independently. \n",
    "\n",
    "Multithreading is used to achieve concurrent execution of different parts of a program to improve performance and responsiveness.\n",
    "\n",
    "The threading module is used to handle threads in Python, providing a high-level interface for creating, starting, and managing threads.\n",
    "\n",
    "Threads can be used to handle tasks such as managing network connections, performing background operations, or parallelizing computationally intensive tasks.\n",
    "\n",
    "Python's Global Interpreter Lock (GIL) restricts true parallelism, allowing only one thread to execute Python bytecode at a time.\n",
    "\n",
    "Multithreading in Python is more suitable for I/O-bound tasks rather than CPU-bound tasks due to the limitations imposed by the GIL.\n"
   ]
  },
  {
   "cell_type": "markdown",
   "id": "39ebd961",
   "metadata": {},
   "source": [
    "Q.2 Why threading module used? Write the use of the following functions\n",
    "\n",
    " activeCount\n",
    " \n",
    " currentThread\n",
    " \n",
    " enumerate)"
   ]
  },
  {
   "cell_type": "markdown",
   "id": "c651ac83",
   "metadata": {},
   "source": [
    "The threading module in Python is used to handle threads and provides a high-level interface for creating, managing, and controlling threads in a program. It offers various functions and classes that facilitate thread management and synchronization.\n",
    "\n",
    "1.activeCount():\n",
    "\n",
    "The activeCount() function returns the number of Thread objects currently alive and running.\n",
    "It is used to retrieve the count of active threads in the current program.\n",
    "Example usage: threading.activeCount().\n",
    "\n",
    "2.currentThread():\n",
    "\n",
    "The currentThread() function returns the Thread object corresponding to the current thread of execution.\n",
    "It is used to obtain a reference to the currently executing thread.\n",
    "Example usage: threading.currentThread()\n",
    "\n",
    "3.enumerate():\n",
    "\n",
    "The enumerate() function returns a list of all active Thread objects currently alive and running.\n",
    "It is used to retrieve a list of all threads that are currently active in the program.\n",
    "Example usage: threading.enumerate()\n"
   ]
  },
  {
   "cell_type": "markdown",
   "id": "6823b13d",
   "metadata": {},
   "source": [
    "Q3. Explain the following functions\n",
    "\n",
    "run\n",
    "\n",
    "start\n",
    "\n",
    "join\n",
    "\n",
    "isAlive"
   ]
  },
  {
   "cell_type": "markdown",
   "id": "92f5bc5c",
   "metadata": {},
   "source": [
    "\n",
    "run(): The run() function represents the code that will be executed in a separate thread. It is called when start() is invoked on a Thread object.\n",
    "\n",
    "start(): The start() function begins the execution of a thread by invoking its run() method in a separate thread. It allows the thread to run concurrently with other threads.\n",
    "\n",
    "join(): The join() function waits for a thread to complete its execution. The calling thread will pause until the specified thread finishes or a timeout period elapses, ensuring synchronization between threads.\n",
    "\n",
    "isAlive(): The isAlive() function checks if a thread is currently active. It returns True if the thread is executing and False if it has completed its execution. It is useful for determining the status of a thread before performing certain actions based on its state."
   ]
  },
  {
   "cell_type": "markdown",
   "id": "6e6c6889",
   "metadata": {},
   "source": [
    "Q4. Write a python program to create two threads. Thread one must print the list of squares and thread\n",
    "two must print the list of cubes"
   ]
  },
  {
   "cell_type": "code",
   "execution_count": 1,
   "id": "10b8d8ce",
   "metadata": {},
   "outputs": [
    {
     "name": "stdout",
     "output_type": "stream",
     "text": [
      "Square of 1: 1Cube of 1: 1\n",
      "Cube of 2: 8\n",
      "Cube of 3: 27\n",
      "Cube of 4: 64\n",
      "Cube of 5: 125\n",
      "\n",
      "Square of 2: 4\n",
      "Square of 3: 9\n",
      "Square of 4: 16\n",
      "Square of 5: 25\n",
      "Program execution completed.\n"
     ]
    }
   ],
   "source": [
    "import threading\n",
    "\n",
    "def print_squares():\n",
    "    for i in range(1, 6):\n",
    "        print(f\"Square of {i}: {i**2}\")\n",
    "\n",
    "def print_cubes():\n",
    "    for i in range(1, 6):\n",
    "        print(f\"Cube of {i}: {i**3}\")\n",
    "\n",
    "# Create the first thread for printing squares\n",
    "thread1 = threading.Thread(target=print_squares)\n",
    "\n",
    "# Create the second thread for printing cubes\n",
    "thread2 = threading.Thread(target=print_cubes)\n",
    "\n",
    "# Start both threads\n",
    "thread1.start()\n",
    "thread2.start()\n",
    "\n",
    "# Wait for both threads to finish\n",
    "thread1.join()\n",
    "thread2.join()\n",
    "\n",
    "print(\"Program execution completed.\")\n"
   ]
  },
  {
   "cell_type": "markdown",
   "id": "81e2a677",
   "metadata": {},
   "source": [
    "Q5. State advantages and disadvantages of multithreading"
   ]
  },
  {
   "cell_type": "markdown",
   "id": "a491292e",
   "metadata": {},
   "source": [
    "**Advantages of Multithreading:**\n",
    "\n",
    "Increased performance and faster execution times.\n",
    "\n",
    "Improved program responsiveness and user experience.\n",
    "\n",
    "Efficient resource sharing and data exchange between threads.\n",
    "\n",
    "Simplified design and modularity for certain types of applications.\n",
    "\n",
    "**Disadvantages of Multithreading:**\n",
    "\n",
    "Increased complexity and potential for bugs like race conditions and deadlocks.\n",
    "\n",
    "Challenging debugging process due to non-deterministic thread execution.\n",
    "\n",
    "Overhead in terms of memory and context switching.\n",
    "\n",
    "Limited CPU parallelism in language"
   ]
  },
  {
   "cell_type": "markdown",
   "id": "65d0a0e2",
   "metadata": {},
   "source": [
    "Q6. Explain deadlocks and race conditions."
   ]
  },
  {
   "cell_type": "markdown",
   "id": "e347df3b",
   "metadata": {},
   "source": [
    "\n",
    "**Deadlock:**\n",
    "\n",
    "Deadlock occurs when two or more threads or processes are blocked indefinitely, each waiting for the other to release a resource.\n",
    "\n",
    "It happens when there is a circular dependency of resources, and none of the threads can proceed.\n",
    "\n",
    "Deadlocks can cause programs to hang or become unresponsive, requiring intervention to resolve the situation.\n",
    "\n",
    "**Race Condition:**\n",
    "\n",
    "Race condition occurs when multiple threads access and manipulate shared data concurrently, leading to unpredictable and undesirable results.\n",
    "\n",
    "It arises when the outcome of the program depends on the relative timing or interleaving of operations between threads.\n",
    "\n",
    "Race conditions can lead to data corruption, incorrect calculations, or unexpected behavior in the program.\n",
    "\n",
    "Synchronization mechanisms, such as locks or semaphores, are used to prevent race conditions by enforcing mutually exclusive access to shared resources."
   ]
  },
  {
   "cell_type": "code",
   "execution_count": null,
   "id": "d82aa17c",
   "metadata": {},
   "outputs": [],
   "source": []
  }
 ],
 "metadata": {
  "kernelspec": {
   "display_name": "Python 3 (ipykernel)",
   "language": "python",
   "name": "python3"
  },
  "language_info": {
   "codemirror_mode": {
    "name": "ipython",
    "version": 3
   },
   "file_extension": ".py",
   "mimetype": "text/x-python",
   "name": "python",
   "nbconvert_exporter": "python",
   "pygments_lexer": "ipython3",
   "version": "3.11.1"
  }
 },
 "nbformat": 4,
 "nbformat_minor": 5
}
